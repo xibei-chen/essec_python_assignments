{
 "cells": [
  {
   "cell_type": "markdown",
   "id": "c7959c82",
   "metadata": {},
   "source": [
    "# Python Programming for Business - Assignment 1\n",
    "### Student Name: Xibei Chen \n",
    "### Student ID: B00804592\n",
    "## Problem Source: [Advent of Code 2021 Day 1](https://adventofcode.com/2021/day/1)"
   ]
  },
  {
   "cell_type": "code",
   "execution_count": 1,
   "id": "b41c7907",
   "metadata": {},
   "outputs": [
    {
     "name": "stdout",
     "output_type": "stream",
     "text": [
      "Requirement already satisfied: advent-of-code-data in /Users/xibei/opt/anaconda3/lib/python3.9/site-packages (1.1.2)\n",
      "Requirement already satisfied: pebble in /Users/xibei/opt/anaconda3/lib/python3.9/site-packages (from advent-of-code-data) (5.0.0)\n",
      "Requirement already satisfied: python-dateutil in /Users/xibei/opt/anaconda3/lib/python3.9/site-packages (from advent-of-code-data) (2.8.2)\n",
      "Requirement already satisfied: termcolor in /Users/xibei/opt/anaconda3/lib/python3.9/site-packages (from advent-of-code-data) (2.0.1)\n",
      "Requirement already satisfied: beautifulsoup4 in /Users/xibei/opt/anaconda3/lib/python3.9/site-packages (from advent-of-code-data) (4.11.1)\n",
      "Requirement already satisfied: tzlocal in /Users/xibei/opt/anaconda3/lib/python3.9/site-packages (from advent-of-code-data) (4.2)\n",
      "Requirement already satisfied: requests in /Users/xibei/opt/anaconda3/lib/python3.9/site-packages (from advent-of-code-data) (2.27.1)\n",
      "Requirement already satisfied: soupsieve>1.2 in /Users/xibei/opt/anaconda3/lib/python3.9/site-packages (from beautifulsoup4->advent-of-code-data) (2.3.1)\n",
      "Requirement already satisfied: six>=1.5 in /Users/xibei/opt/anaconda3/lib/python3.9/site-packages (from python-dateutil->advent-of-code-data) (1.16.0)\n",
      "Requirement already satisfied: idna<4,>=2.5 in /Users/xibei/opt/anaconda3/lib/python3.9/site-packages (from requests->advent-of-code-data) (3.3)\n",
      "Requirement already satisfied: certifi>=2017.4.17 in /Users/xibei/opt/anaconda3/lib/python3.9/site-packages (from requests->advent-of-code-data) (2021.10.8)\n",
      "Requirement already satisfied: charset-normalizer~=2.0.0 in /Users/xibei/opt/anaconda3/lib/python3.9/site-packages (from requests->advent-of-code-data) (2.0.4)\n",
      "Requirement already satisfied: urllib3<1.27,>=1.21.1 in /Users/xibei/opt/anaconda3/lib/python3.9/site-packages (from requests->advent-of-code-data) (1.26.9)\n",
      "Requirement already satisfied: pytz-deprecation-shim in /Users/xibei/opt/anaconda3/lib/python3.9/site-packages (from tzlocal->advent-of-code-data) (0.1.0.post0)\n",
      "Requirement already satisfied: tzdata in /Users/xibei/opt/anaconda3/lib/python3.9/site-packages (from pytz-deprecation-shim->tzlocal->advent-of-code-data) (2022.4)\n"
     ]
    }
   ],
   "source": [
    "# Get Advent of Code data easily using the library\n",
    "!pip install advent-of-code-data"
   ]
  },
  {
   "cell_type": "code",
   "execution_count": 2,
   "id": "ac95303f",
   "metadata": {},
   "outputs": [],
   "source": [
    "from aocd import get_data\n",
    "input_numbers = get_data(day=1, year=2021, \n",
    "                         session='53616c7465645f5fdc41e3f9ae5006d17b87cbb7e13db2bdf9bd17d9e71633e5fbbbfaae8357a06888f4c8bb9902566205a7528be1ff97028a62c370bea70d89')"
   ]
  },
  {
   "cell_type": "code",
   "execution_count": 3,
   "id": "c1b6a26f",
   "metadata": {},
   "outputs": [],
   "source": [
    "# Convert strings into a list of numbers\n",
    "number_list = [eval(x) for x in input_numbers.splitlines()]"
   ]
  },
  {
   "cell_type": "code",
   "execution_count": 4,
   "id": "90a387d5",
   "metadata": {},
   "outputs": [],
   "source": [
    "# Define a function to calculate times of increasement than previous number\n",
    "def count_increase(l):\n",
    "    cnt = 0\n",
    "    for i in range(len(l) - 1):\n",
    "        if l[i] < l[i+1]:\n",
    "              cnt += 1\n",
    "    return(cnt)"
   ]
  },
  {
   "cell_type": "code",
   "execution_count": 5,
   "id": "62ece7f9",
   "metadata": {},
   "outputs": [
    {
     "data": {
      "text/plain": [
       "1184"
      ]
     },
     "execution_count": 5,
     "metadata": {},
     "output_type": "execute_result"
    }
   ],
   "source": [
    "# Get the answer for part 1\n",
    "count_increase(number_list)"
   ]
  },
  {
   "cell_type": "code",
   "execution_count": 6,
   "id": "a4ff2fde",
   "metadata": {},
   "outputs": [],
   "source": [
    "# Import numpy for numpy array manipulation\n",
    "import numpy as np"
   ]
  },
  {
   "cell_type": "code",
   "execution_count": 7,
   "id": "8fbff66c",
   "metadata": {},
   "outputs": [],
   "source": [
    "# Get a list of window sums\n",
    "num_sums = np.array(number_list).cumsum()\n",
    "num_sums[3:] = num_sums[3:] - num_sums[:-3]\n",
    "window_sums = num_sums[2:]"
   ]
  },
  {
   "cell_type": "code",
   "execution_count": 8,
   "id": "6b8e6b0f",
   "metadata": {},
   "outputs": [
    {
     "data": {
      "text/plain": [
       "1158"
      ]
     },
     "execution_count": 8,
     "metadata": {},
     "output_type": "execute_result"
    }
   ],
   "source": [
    "# Get the answer for part 2\n",
    "count_increase(window_sums)"
   ]
  },
  {
   "cell_type": "code",
   "execution_count": null,
   "id": "751a6530",
   "metadata": {},
   "outputs": [],
   "source": []
  }
 ],
 "metadata": {
  "kernelspec": {
   "display_name": "Python 3 (ipykernel)",
   "language": "python",
   "name": "python3"
  },
  "language_info": {
   "codemirror_mode": {
    "name": "ipython",
    "version": 3
   },
   "file_extension": ".py",
   "mimetype": "text/x-python",
   "name": "python",
   "nbconvert_exporter": "python",
   "pygments_lexer": "ipython3",
   "version": "3.9.12"
  }
 },
 "nbformat": 4,
 "nbformat_minor": 5
}
