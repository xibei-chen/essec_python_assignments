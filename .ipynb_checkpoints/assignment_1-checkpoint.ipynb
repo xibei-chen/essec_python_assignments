{
 "cells": [
  {
   "cell_type": "markdown",
   "id": "c7959c82",
   "metadata": {},
   "source": [
    "# Python Programming for Business - Assignment 1\n",
    "### Student Name: Xibei Chen \n",
    "### Student ID: B00804592\n",
    "## Problem Source: [Advent of Code 2021 Day 1](https://adventofcode.com/2021/day/1)"
   ]
  },
  {
   "cell_type": "code",
   "execution_count": 1,
   "id": "b41c7907",
   "metadata": {},
   "outputs": [
    {
     "name": "stdout",
     "output_type": "stream",
     "text": [
      "Requirement already satisfied: advent-of-code-data in /Users/xibei/opt/anaconda3/lib/python3.9/site-packages (1.1.2)\n",
      "Requirement already satisfied: python-dateutil in /Users/xibei/opt/anaconda3/lib/python3.9/site-packages (from advent-of-code-data) (2.8.2)\n",
      "Requirement already satisfied: pebble in /Users/xibei/opt/anaconda3/lib/python3.9/site-packages (from advent-of-code-data) (5.0.0)\n",
      "Requirement already satisfied: requests in /Users/xibei/opt/anaconda3/lib/python3.9/site-packages (from advent-of-code-data) (2.27.1)\n",
      "Requirement already satisfied: beautifulsoup4 in /Users/xibei/opt/anaconda3/lib/python3.9/site-packages (from advent-of-code-data) (4.11.1)\n",
      "Requirement already satisfied: termcolor in /Users/xibei/opt/anaconda3/lib/python3.9/site-packages (from advent-of-code-data) (2.0.1)\n",
      "Requirement already satisfied: tzlocal in /Users/xibei/opt/anaconda3/lib/python3.9/site-packages (from advent-of-code-data) (4.2)\n",
      "Requirement already satisfied: soupsieve>1.2 in /Users/xibei/opt/anaconda3/lib/python3.9/site-packages (from beautifulsoup4->advent-of-code-data) (2.3.1)\n",
      "Requirement already satisfied: six>=1.5 in /Users/xibei/opt/anaconda3/lib/python3.9/site-packages (from python-dateutil->advent-of-code-data) (1.16.0)\n",
      "Requirement already satisfied: charset-normalizer~=2.0.0 in /Users/xibei/opt/anaconda3/lib/python3.9/site-packages (from requests->advent-of-code-data) (2.0.4)\n",
      "Requirement already satisfied: certifi>=2017.4.17 in /Users/xibei/opt/anaconda3/lib/python3.9/site-packages (from requests->advent-of-code-data) (2021.10.8)\n",
      "Requirement already satisfied: idna<4,>=2.5 in /Users/xibei/opt/anaconda3/lib/python3.9/site-packages (from requests->advent-of-code-data) (3.3)\n",
      "Requirement already satisfied: urllib3<1.27,>=1.21.1 in /Users/xibei/opt/anaconda3/lib/python3.9/site-packages (from requests->advent-of-code-data) (1.26.9)\n",
      "Requirement already satisfied: pytz-deprecation-shim in /Users/xibei/opt/anaconda3/lib/python3.9/site-packages (from tzlocal->advent-of-code-data) (0.1.0.post0)\n",
      "Requirement already satisfied: tzdata in /Users/xibei/opt/anaconda3/lib/python3.9/site-packages (from pytz-deprecation-shim->tzlocal->advent-of-code-data) (2022.4)\n"
     ]
    }
   ],
   "source": [
    "# Get Advent of Code data easily using the library\n",
    "!pip install advent-of-code-data"
   ]
  },
  {
   "cell_type": "markdown",
   "id": "c70201ad",
   "metadata": {},
   "source": [
    "You shouldn't leave your session token out in the open for anyone to\n",
    "steal (not a big deal for this site, but still). You can put it into a\n",
    "file called e.g. secret.txt, and then replace the string with\n",
    "open('secret.txt').read()"
   ]
  },
  {
   "cell_type": "code",
   "execution_count": 2,
   "id": "b8ae62f9",
   "metadata": {},
   "outputs": [],
   "source": [
    "token = open('session_token.txt').read()"
   ]
  },
  {
   "cell_type": "code",
   "execution_count": 3,
   "id": "ac95303f",
   "metadata": {},
   "outputs": [],
   "source": [
    "from aocd import get_data\n",
    "input_numbers = get_data(day=1, year=2021, \n",
    "                         session=token)"
   ]
  },
  {
   "cell_type": "markdown",
   "id": "432a308e",
   "metadata": {},
   "source": [
    "eval is quite dangerous and will happily return results even if you feed it something that is not a string representation of an integer. Use int() instead."
   ]
  },
  {
   "cell_type": "code",
   "execution_count": 4,
   "id": "c1b6a26f",
   "metadata": {},
   "outputs": [],
   "source": [
    "# Convert strings into a list of numbers\n",
    "# number_list = [eval(x) for x in input_numbers.splitlines()]\n",
    "number_list = [int(x) for x in input_numbers.splitlines()]"
   ]
  },
  {
   "cell_type": "code",
   "execution_count": 1,
   "id": "da84c4c7",
   "metadata": {},
   "outputs": [],
   "source": [
    "R=1"
   ]
  },
  {
   "cell_type": "code",
   "execution_count": 2,
   "id": "89c75380",
   "metadata": {},
   "outputs": [
    {
     "data": {
      "text/plain": [
       "1"
      ]
     },
     "execution_count": 2,
     "metadata": {},
     "output_type": "execute_result"
    }
   ],
   "source": [
    "eval(\"R\")"
   ]
  },
  {
   "cell_type": "code",
   "execution_count": 3,
   "id": "e2287c1f",
   "metadata": {},
   "outputs": [
    {
     "ename": "ValueError",
     "evalue": "invalid literal for int() with base 10: 'R'",
     "output_type": "error",
     "traceback": [
      "\u001b[0;31m---------------------------------------------------------------------------\u001b[0m",
      "\u001b[0;31mValueError\u001b[0m                                Traceback (most recent call last)",
      "Input \u001b[0;32mIn [3]\u001b[0m, in \u001b[0;36m<cell line: 1>\u001b[0;34m()\u001b[0m\n\u001b[0;32m----> 1\u001b[0m \u001b[38;5;28;43mint\u001b[39;49m\u001b[43m(\u001b[49m\u001b[38;5;124;43m\"\u001b[39;49m\u001b[38;5;124;43mR\u001b[39;49m\u001b[38;5;124;43m\"\u001b[39;49m\u001b[43m)\u001b[49m\n",
      "\u001b[0;31mValueError\u001b[0m: invalid literal for int() with base 10: 'R'"
     ]
    }
   ],
   "source": [
    "int(\"R\")\n",
    "# thats why int is safer option"
   ]
  },
  {
   "cell_type": "markdown",
   "id": "49ab3fbc",
   "metadata": {},
   "source": [
    "Return is not a function, don't do\n",
    "\n",
    "return(something)\n",
    "\n",
    "but\n",
    "\n",
    "return something"
   ]
  },
  {
   "cell_type": "code",
   "execution_count": 5,
   "id": "90a387d5",
   "metadata": {},
   "outputs": [],
   "source": [
    "# Define a function to calculate times of increasement than previous number\n",
    "def count_increase(l):\n",
    "    cnt = 0\n",
    "    for i in range(len(l) - 1):\n",
    "        if l[i] < l[i+1]:\n",
    "              cnt += 1\n",
    "    return cnt"
   ]
  },
  {
   "cell_type": "code",
   "execution_count": 6,
   "id": "62ece7f9",
   "metadata": {},
   "outputs": [
    {
     "data": {
      "text/plain": [
       "1184"
      ]
     },
     "execution_count": 6,
     "metadata": {},
     "output_type": "execute_result"
    }
   ],
   "source": [
    "# Get the answer for part 1\n",
    "count_increase(number_list)"
   ]
  },
  {
   "cell_type": "code",
   "execution_count": 7,
   "id": "a4ff2fde",
   "metadata": {},
   "outputs": [],
   "source": [
    "# Import numpy for numpy array manipulation\n",
    "import numpy as np"
   ]
  },
  {
   "cell_type": "code",
   "execution_count": 8,
   "id": "8fbff66c",
   "metadata": {},
   "outputs": [],
   "source": [
    "# Get a list of window sums\n",
    "num_sums = np.array(number_list).cumsum()\n",
    "num_sums[3:] = num_sums[3:] - num_sums[:-3]\n",
    "window_sums = num_sums[2:]"
   ]
  },
  {
   "cell_type": "markdown",
   "id": "a8926c98",
   "metadata": {},
   "source": [
    "Numpy is a very nice resource, which offers more readable\n",
    "solutions, e.g.\n",
    "https://urldefense.proofpoint.com/v2/url?u=https-3A__stackoverflow.com_questions_38507672_summing-2Delements-2Din-2Da-2Dsliding-2Dwindow-2Dnumpy&d=DwIBAg&c=oS_0xOYps7FNW56RWijYeQ&r=rR4sgNUBrsJ4Y-m8RFG2Kk73BG4L63jW1vu1y9njXTQ&m=4QPbehpEmFB4nyxmXizUJ8aLrSSk1sxjBNKCotNlfFjWhCOPAhRcPQDd1epzK1Jd&s=_6adb9NMbY20mcHukVf0vczJQwT-ihWgpirn5I9QKKI&e= "
   ]
  },
  {
   "cell_type": "code",
   "execution_count": 9,
   "id": "4cb103b1",
   "metadata": {},
   "outputs": [],
   "source": [
    "window_sums_1 = np.convolve(number_list,np.ones(3,dtype=int),'valid')"
   ]
  },
  {
   "cell_type": "markdown",
   "id": "a37b7226",
   "metadata": {},
   "source": [
    "Pandas also offers a rolling sum directly\n",
    "https://urldefense.proofpoint.com/v2/url?u=https-3A__pandas.pydata.org_docs_reference_api_pandas.core.window.rolling.Rolling.sum.html&d=DwIBAg&c=oS_0xOYps7FNW56RWijYeQ&r=rR4sgNUBrsJ4Y-m8RFG2Kk73BG4L63jW1vu1y9njXTQ&m=4QPbehpEmFB4nyxmXizUJ8aLrSSk1sxjBNKCotNlfFjWhCOPAhRcPQDd1epzK1Jd&s=SamhlKm0o_Ml5kU0UyN8lxZBhKuIkrSbZPZGt7W-tpQ&e= "
   ]
  },
  {
   "cell_type": "code",
   "execution_count": 10,
   "id": "9d3e4ecf",
   "metadata": {},
   "outputs": [],
   "source": [
    "import pandas as pd"
   ]
  },
  {
   "cell_type": "code",
   "execution_count": 11,
   "id": "17373d1a",
   "metadata": {},
   "outputs": [],
   "source": [
    "window_sums_2 = pd.Series(number_list).rolling(3).sum()"
   ]
  },
  {
   "cell_type": "code",
   "execution_count": 12,
   "id": "6b8e6b0f",
   "metadata": {},
   "outputs": [
    {
     "data": {
      "text/plain": [
       "1158"
      ]
     },
     "execution_count": 12,
     "metadata": {},
     "output_type": "execute_result"
    }
   ],
   "source": [
    "# Get the answer for part 2\n",
    "count_increase(window_sums)"
   ]
  },
  {
   "cell_type": "code",
   "execution_count": 13,
   "id": "751a6530",
   "metadata": {},
   "outputs": [
    {
     "data": {
      "text/plain": [
       "1158"
      ]
     },
     "execution_count": 13,
     "metadata": {},
     "output_type": "execute_result"
    }
   ],
   "source": [
    "# Get the answer for part 2\n",
    "count_increase(window_sums_1)"
   ]
  },
  {
   "cell_type": "code",
   "execution_count": 14,
   "id": "fd21732a",
   "metadata": {},
   "outputs": [
    {
     "data": {
      "text/plain": [
       "1158"
      ]
     },
     "execution_count": 14,
     "metadata": {},
     "output_type": "execute_result"
    }
   ],
   "source": [
    "# Get the answer for part 2\n",
    "count_increase(window_sums_2)"
   ]
  },
  {
   "cell_type": "code",
   "execution_count": null,
   "id": "f78b9ea5",
   "metadata": {},
   "outputs": [],
   "source": []
  }
 ],
 "metadata": {
  "kernelspec": {
   "display_name": "Python 3 (ipykernel)",
   "language": "python",
   "name": "python3"
  },
  "language_info": {
   "codemirror_mode": {
    "name": "ipython",
    "version": 3
   },
   "file_extension": ".py",
   "mimetype": "text/x-python",
   "name": "python",
   "nbconvert_exporter": "python",
   "pygments_lexer": "ipython3",
   "version": "3.9.12"
  }
 },
 "nbformat": 4,
 "nbformat_minor": 5
}
