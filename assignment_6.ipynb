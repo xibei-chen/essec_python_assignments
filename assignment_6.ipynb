{
 "cells": [
  {
   "cell_type": "markdown",
   "id": "b0649522",
   "metadata": {},
   "source": [
    "# Python Programming for Business - Assignment 6\n",
    "### Student Name: Xibei Chen \n",
    "### Student ID: B00804592"
   ]
  },
  {
   "cell_type": "markdown",
   "id": "2f6746e8",
   "metadata": {},
   "source": [
    "## Problem Description\n",
    "Resource allocation problem in manufacturing:\n",
    "\n",
    "- Say that a factory produces four different products, and that the daily produced amount of the first product is x₁, the amount produced of the second product is x₂, and so on. The goal is to determine the profit-maximizing daily production amount for each product, bearing in mind the following conditions:\n",
    "\n",
    "- The profit per unit of product is \\\\$20, \\\\$12, \\\\$40, and \\\\$25 for the first, second, third, and fourth product, respectively.\n",
    "\n",
    "- Due to manpower constraints, the total number of units produced per day can’t exceed fifty.\n",
    "\n",
    "- For each unit of the first product, three units of the raw material A are consumed. Each unit of the second product requires two units of the raw material A and one unit of the raw material B. Each unit of the third product needs one unit of A and two units of B. Finally, each unit of the fourth product requires three units of B.\n",
    "\n",
    "- Due to the transportation and storage constraints, the factory can consume up to one hundred units of the raw material A and ninety units of B per day.\n",
    "\n"
   ]
  },
  {
   "cell_type": "markdown",
   "id": "0781d122",
   "metadata": {},
   "source": [
    "## Solution with ORtools\n",
    "\n",
    "The mathematical model can be defined like this:\n",
    "\n",
    "x1,x2,x3,x4 >=0\n",
    "\n",
    "x1 + x2 + x3 + x4 <= 50 (manpower)\n",
    "\n",
    "3x1 + 2x2 + x3 <= 100 (material A)\n",
    "\n",
    "x2 + 2x3 + 3x4 <= 90 (material B)\n",
    "\n",
    "max 20x1 + 12x2 + 40x3 + 25x4 (profit)"
   ]
  },
  {
   "cell_type": "code",
   "execution_count": 2,
   "id": "fd31939a",
   "metadata": {},
   "outputs": [],
   "source": [
    "from ortools.linear_solver import pywraplp"
   ]
  },
  {
   "cell_type": "code",
   "execution_count": 5,
   "id": "cb67808f",
   "metadata": {},
   "outputs": [
    {
     "name": "stdout",
     "output_type": "stream",
     "text": [
      "Number of variables = 4\n",
      "Number of constraints = 3\n",
      "Solution:\n",
      "Objective value = 1900.0\n",
      "x1 = 5.0000000000000115\n",
      "x2 = 0.0\n",
      "x3 = 44.99999999999999\n",
      "x4 = 0.0\n",
      "\n",
      "Advanced usage:\n",
      "Problem solved in 3.000000 milliseconds\n",
      "Problem solved in 2 iterations\n"
     ]
    }
   ],
   "source": [
    "# Instantiate a Glop solver\n",
    "solver = pywraplp.Solver.CreateSolver('GLOP')\n",
    "\n",
    "# Create the four variables and let them take on any non-negative value.\n",
    "x1 = solver.NumVar(0, solver.infinity(), 'x1')\n",
    "x2 = solver.NumVar(0, solver.infinity(), 'x2')\n",
    "x3 = solver.NumVar(0, solver.infinity(), 'x3')\n",
    "x4 = solver.NumVar(0, solver.infinity(), 'x4')\n",
    "\n",
    "print('Number of variables =', solver.NumVariables())\n",
    "\n",
    "# Constraint 0: x1 + x2 + x3 + x4 <= 50 (manpower)\n",
    "solver.Add(x1 + x2 + x3 + x4 <= 50)\n",
    "\n",
    "# Constraint 1: 3x1 + 2x2 + x3 <= 100 (material A)\n",
    "solver.Add(3*x1 + 2*x2 + x3 <= 100)\n",
    "\n",
    "# Constraint 2: x2 + 2x3 + 3x4 <= 90 (material B)\n",
    "solver.Add(x2 + 2*x3 + 3*x4 <= 90)\n",
    "\n",
    "print('Number of constraints =', solver.NumConstraints())\n",
    "\n",
    "# Objective function: 20x1 + 12x2 + 40x3 + 25x4 (profit)\n",
    "solver.Maximize(20*x1 + 12*x2 + 40*x3 + 25*x4)\n",
    "\n",
    "# Solve the system.\n",
    "status = solver.Solve()\n",
    "\n",
    "if status == pywraplp.Solver.OPTIMAL:\n",
    "    print('Solution:')\n",
    "    print('Objective value =', solver.Objective().Value())\n",
    "    print('x1 =', x1.solution_value())\n",
    "    print('x2 =', x2.solution_value())\n",
    "    print('x3 =', x3.solution_value())\n",
    "    print('x4 =', x4.solution_value())\n",
    "else:\n",
    "    print('The problem does not have an optimal solution.')\n",
    "    \n",
    "print('\\nAdvanced usage:')\n",
    "print('Problem solved in %f milliseconds' % solver.wall_time())\n",
    "print('Problem solved in %d iterations' % solver.iterations())"
   ]
  },
  {
   "cell_type": "markdown",
   "id": "3240bdf6",
   "metadata": {},
   "source": [
    "The most profitable solution is to produce 5.0 units of the first product and 45.0 units of the third product per day. The maximum profit is \\\\$1900."
   ]
  },
  {
   "cell_type": "code",
   "execution_count": null,
   "id": "91024505",
   "metadata": {},
   "outputs": [],
   "source": []
  }
 ],
 "metadata": {
  "kernelspec": {
   "display_name": "Python 3 (ipykernel)",
   "language": "python",
   "name": "python3"
  },
  "language_info": {
   "codemirror_mode": {
    "name": "ipython",
    "version": 3
   },
   "file_extension": ".py",
   "mimetype": "text/x-python",
   "name": "python",
   "nbconvert_exporter": "python",
   "pygments_lexer": "ipython3",
   "version": "3.9.12"
  }
 },
 "nbformat": 4,
 "nbformat_minor": 5
}
