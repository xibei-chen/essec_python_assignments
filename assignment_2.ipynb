{
 "cells": [
  {
   "cell_type": "markdown",
   "id": "2495f0be",
   "metadata": {},
   "source": [
    "# Python Programming for Business - Assignment 2\n",
    "### Student Name: Xibei Chen \n",
    "### Student ID: B00804592\n",
    "## Problem Source: [Advent of Code 2020 Day 1](https://adventofcode.com/2020/day/1)"
   ]
  },
  {
   "cell_type": "markdown",
   "id": "2ea06355",
   "metadata": {},
   "source": [
    "## Part 1"
   ]
  },
  {
   "cell_type": "code",
   "execution_count": 1,
   "id": "43bde584",
   "metadata": {},
   "outputs": [],
   "source": [
    "# Import example data\n",
    "s=\"\"\"1721\n",
    "979\n",
    "366\n",
    "299\n",
    "675\n",
    "1456\n",
    "\"\"\""
   ]
  },
  {
   "cell_type": "code",
   "execution_count": 2,
   "id": "3600fec2",
   "metadata": {},
   "outputs": [],
   "source": [
    "# Define a function to get the product of two numbers that sums to 2020\n",
    "def get_product_of_two_nums(s):\n",
    "    nums = [int(num) for num in s.splitlines()]\n",
    "    for i in nums:\n",
    "        for j in nums:\n",
    "            if i + j == 2020:\n",
    "                return i * j"
   ]
  },
  {
   "cell_type": "code",
   "execution_count": 3,
   "id": "397628f3",
   "metadata": {},
   "outputs": [
    {
     "data": {
      "text/plain": [
       "514579"
      ]
     },
     "execution_count": 3,
     "metadata": {},
     "output_type": "execute_result"
    }
   ],
   "source": [
    "# Test with example\n",
    "get_product_of_two_nums(s)"
   ]
  },
  {
   "cell_type": "code",
   "execution_count": 4,
   "id": "13dcdd46",
   "metadata": {},
   "outputs": [],
   "source": [
    "# Get Advent of Code 2020 Day 1 data\n",
    "token = open('session_token.txt').read()\n",
    "from aocd import get_data\n",
    "input_numbers = get_data(day=1, year=2020, \n",
    "                         session=token)"
   ]
  },
  {
   "cell_type": "code",
   "execution_count": 5,
   "id": "6669999c",
   "metadata": {},
   "outputs": [
    {
     "data": {
      "text/plain": [
       "138379"
      ]
     },
     "execution_count": 5,
     "metadata": {},
     "output_type": "execute_result"
    }
   ],
   "source": [
    "# Get answer for part 1\n",
    "get_product_of_two_nums(input_numbers)"
   ]
  },
  {
   "cell_type": "markdown",
   "id": "24ba13b7",
   "metadata": {},
   "source": [
    "## Part 2"
   ]
  },
  {
   "cell_type": "code",
   "execution_count": 6,
   "id": "3a9b300c",
   "metadata": {},
   "outputs": [],
   "source": [
    "# Define a function to get the product of three numbers that sums to 2020\n",
    "def get_product_of_three_nums(s):\n",
    "    nums = [int(num) for num in s.splitlines()]\n",
    "    for i in nums:\n",
    "        for j in nums:\n",
    "            for k in nums:\n",
    "                if i + j + k == 2020:\n",
    "                    return i * j * k"
   ]
  },
  {
   "cell_type": "code",
   "execution_count": 7,
   "id": "f116f4f9",
   "metadata": {},
   "outputs": [
    {
     "data": {
      "text/plain": [
       "241861950"
      ]
     },
     "execution_count": 7,
     "metadata": {},
     "output_type": "execute_result"
    }
   ],
   "source": [
    "# Test with example\n",
    "get_product_of_three_nums(s)"
   ]
  },
  {
   "cell_type": "code",
   "execution_count": 8,
   "id": "7e40ac27",
   "metadata": {},
   "outputs": [
    {
     "data": {
      "text/plain": [
       "85491920"
      ]
     },
     "execution_count": 8,
     "metadata": {},
     "output_type": "execute_result"
    }
   ],
   "source": [
    "# Get answer for part 2\n",
    "get_product_of_three_nums(input_numbers)"
   ]
  },
  {
   "cell_type": "markdown",
   "id": "c33b1575",
   "metadata": {},
   "source": [
    "## Alternative solution"
   ]
  },
  {
   "cell_type": "markdown",
   "id": "1e43d9b0",
   "metadata": {},
   "source": [
    "An alternative solution found online using function combinations() from library itertools.\n",
    "Only applied to example data."
   ]
  },
  {
   "cell_type": "code",
   "execution_count": 9,
   "id": "486aa2d2",
   "metadata": {},
   "outputs": [],
   "source": [
    "from itertools import *"
   ]
  },
  {
   "cell_type": "code",
   "execution_count": 10,
   "id": "5b558e88",
   "metadata": {},
   "outputs": [],
   "source": [
    "nums = list(map(int, s.splitlines()))\n",
    "# This is an alternative way, works the same as:  nums = [int(num) for num in s.splitlines()]"
   ]
  },
  {
   "cell_type": "code",
   "execution_count": 11,
   "id": "ec5301d6",
   "metadata": {},
   "outputs": [
    {
     "data": {
      "text/plain": [
       "[(1721, 979),\n",
       " (1721, 366),\n",
       " (1721, 299),\n",
       " (1721, 675),\n",
       " (1721, 1456),\n",
       " (979, 366),\n",
       " (979, 299),\n",
       " (979, 675),\n",
       " (979, 1456),\n",
       " (366, 299),\n",
       " (366, 675),\n",
       " (366, 1456),\n",
       " (299, 675),\n",
       " (299, 1456),\n",
       " (675, 1456)]"
      ]
     },
     "execution_count": 11,
     "metadata": {},
     "output_type": "execute_result"
    }
   ],
   "source": [
    "# Get all the pairs from the number list without replacement\n",
    "# There is another function combinations_with_replacement() if we need replacement, we dont need it in this case\n",
    "all_pairs = list(combinations(nums, 2))\n",
    "all_pairs"
   ]
  },
  {
   "cell_type": "code",
   "execution_count": 12,
   "id": "cb1c51e9",
   "metadata": {},
   "outputs": [],
   "source": [
    "# Define a function that works as a criterion to select numbers that sums to 2020\n",
    "def sums_to_2020(nums):\n",
    "    return sum(nums) == 2020"
   ]
  },
  {
   "cell_type": "code",
   "execution_count": 13,
   "id": "b7a50f95",
   "metadata": {},
   "outputs": [
    {
     "data": {
      "text/plain": [
       "[(1721, 299)]"
      ]
     },
     "execution_count": 13,
     "metadata": {},
     "output_type": "execute_result"
    }
   ],
   "source": [
    "# Apply the filter to all pairs to get the ones that meet the criterion\n",
    "result = list(filter(sums_to_2020, all_pairs))\n",
    "result"
   ]
  },
  {
   "cell_type": "code",
   "execution_count": 14,
   "id": "1149a771",
   "metadata": {},
   "outputs": [
    {
     "data": {
      "text/plain": [
       "514579"
      ]
     },
     "execution_count": 14,
     "metadata": {},
     "output_type": "execute_result"
    }
   ],
   "source": [
    "# Get the product of the numbers\n",
    "import math\n",
    "math.prod(result[0])"
   ]
  },
  {
   "cell_type": "code",
   "execution_count": 15,
   "id": "ef0a413b",
   "metadata": {},
   "outputs": [
    {
     "data": {
      "text/plain": [
       "[(1721, 979, 366),\n",
       " (1721, 979, 299),\n",
       " (1721, 979, 675),\n",
       " (1721, 979, 1456),\n",
       " (1721, 366, 299),\n",
       " (1721, 366, 675),\n",
       " (1721, 366, 1456),\n",
       " (1721, 299, 675),\n",
       " (1721, 299, 1456),\n",
       " (1721, 675, 1456),\n",
       " (979, 366, 299),\n",
       " (979, 366, 675),\n",
       " (979, 366, 1456),\n",
       " (979, 299, 675),\n",
       " (979, 299, 1456),\n",
       " (979, 675, 1456),\n",
       " (366, 299, 675),\n",
       " (366, 299, 1456),\n",
       " (366, 675, 1456),\n",
       " (299, 675, 1456)]"
      ]
     },
     "execution_count": 15,
     "metadata": {},
     "output_type": "execute_result"
    }
   ],
   "source": [
    "# For part 2, get combinations of three numbers that sums to 2020\n",
    "all_triplets = list(combinations(nums, 3))\n",
    "all_triplets"
   ]
  },
  {
   "cell_type": "code",
   "execution_count": 16,
   "id": "29dc283b",
   "metadata": {},
   "outputs": [
    {
     "data": {
      "text/plain": [
       "[(979, 366, 675)]"
      ]
     },
     "execution_count": 16,
     "metadata": {},
     "output_type": "execute_result"
    }
   ],
   "source": [
    "# Apply the filter to all triplets to get the ones that meet the criterion\n",
    "result = list(filter(sums_to_2020, all_triplets))\n",
    "result"
   ]
  },
  {
   "cell_type": "code",
   "execution_count": 17,
   "id": "604e3a4c",
   "metadata": {},
   "outputs": [
    {
     "data": {
      "text/plain": [
       "241861950"
      ]
     },
     "execution_count": 17,
     "metadata": {},
     "output_type": "execute_result"
    }
   ],
   "source": [
    "# Get the product of the numbers\n",
    "import math\n",
    "math.prod(result[0])"
   ]
  },
  {
   "cell_type": "code",
   "execution_count": null,
   "id": "5ddcd8da",
   "metadata": {},
   "outputs": [],
   "source": []
  }
 ],
 "metadata": {
  "kernelspec": {
   "display_name": "Python 3 (ipykernel)",
   "language": "python",
   "name": "python3"
  },
  "language_info": {
   "codemirror_mode": {
    "name": "ipython",
    "version": 3
   },
   "file_extension": ".py",
   "mimetype": "text/x-python",
   "name": "python",
   "nbconvert_exporter": "python",
   "pygments_lexer": "ipython3",
   "version": "3.9.12"
  }
 },
 "nbformat": 4,
 "nbformat_minor": 5
}
